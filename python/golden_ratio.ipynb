{
 "metadata": {
  "language_info": {
   "codemirror_mode": {
    "name": "ipython",
    "version": 3
   },
   "file_extension": ".py",
   "mimetype": "text/x-python",
   "name": "python",
   "nbconvert_exporter": "python",
   "pygments_lexer": "ipython3",
   "version": "3.8.2"
  },
  "orig_nbformat": 2,
  "kernelspec": {
   "name": "python38264bitfe77093adb0b49b0980dfa0ff8df9daf",
   "display_name": "Python 3.8.2 64-bit"
  },
  "metadata": {
   "interpreter": {
    "hash": "aee8b7b246df8f9039afb4144a1f6fd8d2ca17a180786b69acc140d282b71a49"
   }
  }
 },
 "nbformat": 4,
 "nbformat_minor": 2,
 "cells": [
  {
   "source": [
    "# Golden Ratio"
   ],
   "cell_type": "markdown",
   "metadata": {}
  },
  {
   "cell_type": "code",
   "execution_count": 6,
   "metadata": {},
   "outputs": [],
   "source": [
    "import math\n",
    "from sympy import *"
   ]
  },
  {
   "cell_type": "code",
   "execution_count": 7,
   "metadata": {},
   "outputs": [],
   "source": [
    "COMPLEX_INFINITY = symbols(\"complex infinity\")\n",
    "INDETERMINATE = symbols(\"indeterminate\")    \n",
    "PHI = symbols(\"phi\")\n",
    "phi = (math.sqrt(5) + 1)/2"
   ]
  },
  {
   "cell_type": "code",
   "execution_count": 50,
   "metadata": {},
   "outputs": [],
   "source": [
    "class Goldice:\n",
    "\n",
    "    def __init__(self, a, b):\n",
    "        self.a = int(a)\n",
    "        self.b = int(b)\n",
    "\n",
    "    def to_double(self):\n",
    "        return self.a + self.b*phi\n",
    "\n",
    "    def __add__(self, other):\n",
    "        return Goldice(self.a + other.a, self.b + other.b)\n",
    "\n",
    "    def __sub__(self, other):\n",
    "        return Goldice(self.a - other.a, self.b - other.b)\n",
    "\n",
    "    def __mul__(self, other):\n",
    "        if (self.a == 0 and self.b == 0 and other.a == COMPLEX_INFINITY and other.b == COMPLEX_INFINITY):\n",
    "            return Goldice(INDETERMINATE, INDETERMINATE)\n",
    "        if (self.a == COMPLEX_INFINITY and self.b == COMPLEX_INFINITY and other.a == 0 and other.b == 0):\n",
    "            return Goldice(INDETERMINATE, INDETERMINATE)\n",
    "        if (self.a == COMPLEX_INFINITY and self.b == COMPLEX_INFINITY and other.a == COMPLEX_INFINITY and other.b == COMPLEX_INFINITY):\n",
    "            return Goldice(COMPLEX_INFINITY, COMPLEX_INFINITY)\n",
    "        x = self.a * other.a + self.b * other.b\n",
    "        y = self.a*other.b + self.b*other.a + self.b*other.b\n",
    "        return Goldice(x, y)\n",
    "    \n",
    "    def reciprocal(self):\n",
    "        if (self.a == COMPLEX_INFINITY and self.b == COMPLEX_INFINITY):\n",
    "            return Goldice(0, 0)\n",
    "        if (self.a == 0 and self.b == 0):\n",
    "            return Goldice(COMPLEX_INFINITY, COMPLEX_INFINITY)\n",
    "        den = self.a**2 + self.a*self.b - self.b**2\n",
    "        x = (self.a + self.b)/den\n",
    "        y = -self.b/den\n",
    "        return Goldice(x, y)\n",
    "\n",
    "    def __truediv__(self, other):\n",
    "        return self * other.reciprocal()\n",
    "\n",
    "    def __str__(self):\n",
    "        if isinstance(self.b, int):\n",
    "            return str(self.a) + '{0:+}'.format(self.b) + \"*\" + str(PHI)\n",
    "        return str(self.a) + \" + \" +  str(self.b)"
   ]
  },
  {
   "cell_type": "code",
   "execution_count": 51,
   "metadata": {},
   "outputs": [
    {
     "output_type": "stream",
     "name": "stdout",
     "text": [
      "Sum: 1+1*phi\nDifference: -1+1*phi\nProduct: 0+1*phi\nDivision: 0+1*phi\nReciprocal of x: -1+1*phi\nReciprocal of y: 1+0*phi\n"
     ]
    }
   ],
   "source": [
    "x = Goldice(0, 1)\n",
    "y = Goldice(1, 0)\n",
    "\n",
    "print(\"Sum:\", str(x+y))\n",
    "print(\"Difference:\", str(x-y))\n",
    "print(\"Product:\", str(x*y))\n",
    "print(\"Division:\", str(x/y))\n",
    "print(\"Reciprocal of x:\", str(x.reciprocal()))\n",
    "print(\"Reciprocal of y:\", str(y.reciprocal()))"
   ]
  },
  {
   "cell_type": "code",
   "execution_count": null,
   "metadata": {},
   "outputs": [],
   "source": []
  }
 ]
}
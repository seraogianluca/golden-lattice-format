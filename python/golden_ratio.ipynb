{
 "cells": [
  {
   "cell_type": "markdown",
   "metadata": {},
   "source": [
    "# Golden Ratio"
   ]
  },
  {
   "cell_type": "code",
   "execution_count": 6,
   "metadata": {},
   "outputs": [],
   "source": [
    "import math\n",
    "from sympy import *"
   ]
  },
  {
   "cell_type": "code",
   "execution_count": 7,
   "metadata": {},
   "outputs": [],
   "source": [
    "COMPLEX_INFINITY = symbols(\"complex infinity\")\n",
    "INDETERMINATE = symbols(\"indeterminate\")    \n",
    "PHI = symbols(\"phi\")\n",
    "phi = (math.sqrt(5) + 1)/2"
   ]
  },
  {
   "cell_type": "code",
   "execution_count": 50,
   "metadata": {},
   "outputs": [],
   "source": [
    "class Goldice:\n",
    "\n",
    "    def __init__(self, a, b):\n",
    "        self.a = a\n",
    "        self.b = b\n",
    "\n",
    "    def to_double(self):\n",
    "        return self.a + self.b*phi\n",
    "    \n",
    "    def __eq__(self, other):\n",
    "        return self.a == other.a and self.b == other.b\n",
    "\n",
    "    def __hash__(self):\n",
    "        return hash(self.a+self.b)\n",
    "\n",
    "    def __repr__(self):\n",
    "        return (self.a, self.b)\n",
    "\n",
    "    def __add__(self, other):\n",
    "        return Goldice(self.a + other.a, self.b + other.b)\n",
    "\n",
    "    def __sub__(self, other):\n",
    "        return Goldice(self.a - other.a, self.b - other.b)\n",
    "\n",
    "    def __mul__(self, other):\n",
    "        if (self.a == 0 and self.b == 0 and other.a == COMPLEX_INFINITY and other.b == COMPLEX_INFINITY):\n",
    "            return Goldice(INDETERMINATE, INDETERMINATE)\n",
    "        if (self.a == COMPLEX_INFINITY and self.b == COMPLEX_INFINITY and other.a == 0 and other.b == 0):\n",
    "            return Goldice(INDETERMINATE, INDETERMINATE)\n",
    "        if (self.a == COMPLEX_INFINITY and self.b == COMPLEX_INFINITY and other.a == COMPLEX_INFINITY and other.b == COMPLEX_INFINITY):\n",
    "            return Goldice(COMPLEX_INFINITY, COMPLEX_INFINITY)\n",
    "        x = self.a * other.a + self.b * other.b\n",
    "        y = self.a*other.b + self.b*other.a + self.b*other.b\n",
    "        return Goldice(x, y)\n",
    "    \n",
    "    def reciprocal(self):\n",
    "        if (self.a == COMPLEX_INFINITY and self.b == COMPLEX_INFINITY):\n",
    "            return Goldice(0, 0)\n",
    "        if (self.a == 0 and self.b == 0):\n",
    "            return Goldice(COMPLEX_INFINITY, COMPLEX_INFINITY)\n",
    "        den = self.a**2 + self.a*self.b - self.b**2\n",
    "        x = (self.a + self.b)/den\n",
    "        y = -self.b/den\n",
    "        return Goldice(int(x), int(y))\n",
    "\n",
    "    def __truediv__(self, other):\n",
    "        return self * other.reciprocal()\n",
    "\n",
    "    def __str__(self):\n",
    "        if isinstance(self.b, int):\n",
    "            return str(self.a) + '{0:+}'.format(self.b) + \"*\" + str(PHI)\n",
    "        return str(self.a) + \" + \" +  str(self.b)"
   ]
  },
  {
   "cell_type": "code",
   "execution_count": 51,
   "metadata": {},
   "outputs": [
    {
     "name": "stdout",
     "output_type": "stream",
     "text": [
      "Sum: 1+1*phi\n",
      "Difference: -1+1*phi\n",
      "Product: 0+1*phi\n",
      "Division: 0+1*phi\n",
      "Reciprocal of x: -1+1*phi\n",
      "Reciprocal of y: 1+0*phi\n"
     ]
    }
   ],
   "source": [
    "x = Goldice(0, 1)\n",
    "y = Goldice(1, 0)\n",
    "\n",
    "print(\"Sum:\", str(x+y))\n",
    "print(\"Difference:\", str(x-y))\n",
    "print(\"Product:\", str(x*y))\n",
    "print(\"Division:\", str(x/y))\n",
    "print(\"Reciprocal of x:\", str(x.reciprocal()))\n",
    "print(\"Reciprocal of y:\", str(y.reciprocal()))"
   ]
  },
  {
   "cell_type": "code",
   "execution_count": null,
   "metadata": {},
   "outputs": [],
   "source": []
  }
 ],
 "metadata": {
  "interpreter": {
   "hash": "31f2aee4e71d21fbe5cf8b01ff0e069b9275f58929596ceb00d14d90e3e16cd6"
  },
  "kernelspec": {
   "display_name": "Python 3.8.2 64-bit",
   "name": "python3"
  },
  "language_info": {
   "name": "python",
   "version": ""
  },
  "metadata": {
   "interpreter": {
    "hash": "aee8b7b246df8f9039afb4144a1f6fd8d2ca17a180786b69acc140d282b71a49"
   }
  },
  "orig_nbformat": 2
 },
 "nbformat": 4,
 "nbformat_minor": 2
}
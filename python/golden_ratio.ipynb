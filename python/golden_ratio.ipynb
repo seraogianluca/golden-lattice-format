{
 "cells": [
  {
   "cell_type": "markdown",
   "metadata": {},
   "source": [
    "# Golden Ratio"
   ]
  },
  {
   "cell_type": "code",
   "execution_count": 8,
   "metadata": {},
   "outputs": [],
   "source": [
    "import math\n",
    "import warnings\n",
    "from sympy import *"
   ]
  },
  {
   "cell_type": "code",
   "execution_count": 9,
   "metadata": {},
   "outputs": [],
   "source": [
    "COMPLEX_INFINITY = symbols(\"complex_infinity\")\n",
    "INDETERMINATE = symbols(\"indeterminate\")    \n",
    "PHI = symbols(\"phi\")\n",
    "\n",
    "def custom_formatwarning(msg, *args, **kwargs):\n",
    "    # ignore everything except the message\n",
    "    return str(msg) + '\\n'\n",
    "\n",
    "warnings.formatwarning = custom_formatwarning"
   ]
  },
  {
   "cell_type": "markdown",
   "metadata": {},
   "source": [
    "## Class implementation"
   ]
  },
  {
   "cell_type": "code",
   "execution_count": 10,
   "metadata": {},
   "outputs": [],
   "source": [
    "class Goldice:\n",
    "\n",
    "    def __init__(self, *args):\n",
    "        if len(args) == 2:\n",
    "            self.a = args[0]\n",
    "            self.b = args[1]\n",
    "        else:\n",
    "            self.a = args[0]\n",
    "            self.b = args[0]\n",
    "    \n",
    "    def __eq__(self, other):\n",
    "        if isinstance(other, Goldice):\n",
    "            return self.a == other.a and self.b == other.b\n",
    "        return self.a == other and self.b == other \n",
    "\n",
    "    def __hash__(self):\n",
    "        return hash(self.a) + hash(self.b)\n",
    "\n",
    "    def __repr__(self):\n",
    "        return '(' + str(self.a) + ',' + str(self.b) + ')'\n",
    "\n",
    "    def __add__(self, other):\n",
    "        if self == INDETERMINATE or other == INDETERMINATE:\n",
    "            warnings.warn('Waring: indeterminate value.')\n",
    "            return self;\n",
    "        if self == COMPLEX_INFINITY or other == COMPLEX_INFINITY:\n",
    "            return Goldice(COMPLEX_INFINITY)\n",
    "        return Goldice(self.a + other.a, self.b + other.b)\n",
    "\n",
    "\n",
    "    def __sub__(self, other):\n",
    "        if self == INDETERMINATE or other == INDETERMINATE:\n",
    "            warnings.warn('Waring: indeterminate value.')\n",
    "            return self;\n",
    "        if self == COMPLEX_INFINITY or other == COMPLEX_INFINITY:\n",
    "            return Goldice(COMPLEX_INFINITY)\n",
    "        return Goldice(self.a - other.a, self.b - other.b)\n",
    "\n",
    "    def __mul__(self, other):\n",
    "        if self == INDETERMINATE or other == INDETERMINATE:\n",
    "            warnings.warn('Waring: indeterminate value.')\n",
    "            return self;\n",
    "        if self == 0 and other == COMPLEX_INFINITY:\n",
    "            return Goldice(INDETERMINATE)\n",
    "        if self == COMPLEX_INFINITY and other == 0:\n",
    "            return Goldice(INDETERMINATE)\n",
    "        if self == COMPLEX_INFINITY and other == COMPLEX_INFINITY:\n",
    "            return Goldice(COMPLEX_INFINITY)\n",
    "        x = self.a*other.a + self.b*other.b\n",
    "        y = self.a*other.b + self.b*other.a + self.b*other.b\n",
    "        return Goldice(x, y)\n",
    "\n",
    "    \n",
    "    def reciprocal(self):\n",
    "        if self == INDETERMINATE:\n",
    "            warnings.warn('Waring: indeterminate value.')\n",
    "            return self;\n",
    "        if self == COMPLEX_INFINITY:\n",
    "            return Goldice(0)\n",
    "        if self == 0:\n",
    "            return Goldice(COMPLEX_INFINITY)\n",
    "        den = self.a**2 + self.a*self.b - self.b**2\n",
    "        x = (self.a + self.b)/den\n",
    "        y = -self.b/den\n",
    "        return Goldice(int(x), int(y))\n",
    "\n",
    "    def __truediv__(self, other):\n",
    "        if self == INDETERMINATE or other == INDETERMINATE:\n",
    "            warnings.warn('Waring: indeterminate value.')\n",
    "            return self;\n",
    "        return self * other\n",
    "\n",
    "    def __str__(self):\n",
    "        if self == 0:\n",
    "            return str(0)\n",
    "        if self == INDETERMINATE:\n",
    "            return str(INDETERMINATE)\n",
    "        if self == COMPLEX_INFINITY:\n",
    "            return str(COMPLEX_INFINITY)\n",
    "        if self.a == 0:\n",
    "            return str(self.b) + '*' + str(PHI)\n",
    "        if self.b == 0:\n",
    "            return str(self.a)\n",
    "        return str(self.a) + '{0:+}'.format(self.b) + '*' + str(PHI)\n",
    "        \n",
    "    \n",
    "    def __float__(self):\n",
    "        if self == 0:\n",
    "            return 0\n",
    "        if self == INDETERMINATE:\n",
    "            return float('NaN')\n",
    "        if self == COMPLEX_INFINITY:\n",
    "            return float('Inf')\n",
    "        return self.a + self.b*((math.sqrt(5) + 1)/2)"
   ]
  },
  {
   "cell_type": "markdown",
   "metadata": {},
   "source": [
    "## Tests"
   ]
  },
  {
   "cell_type": "code",
   "execution_count": 11,
   "metadata": {},
   "outputs": [
    {
     "name": "stdout",
     "output_type": "stream",
     "text": [
      "-- GOLDICE TEST --\n",
      "-- test over two goldice x and y --\n",
      "-- x --\n",
      "x is 1*phi\n",
      "Reciprocal of x is -1+1*phi\n",
      "Float conversion is 1.618033988749895\n",
      "-- y --\n",
      "y is 1\n",
      "Reciprocal of y is 1\n",
      "-- operations --\n",
      "Sum is 1+1*phi\n",
      "Difference is -1+1*phi\n",
      "Product is 1*phi\n",
      "Division is 1*phi\n"
     ]
    }
   ],
   "source": [
    "print('-- GOLDICE TEST --')\n",
    "x = Goldice(0, 1)\n",
    "y = Goldice(1, 0)\n",
    "\n",
    "print('-- test over two goldice x and y --')\n",
    "\n",
    "print('-- x --')\n",
    "print('x is', x)\n",
    "print('Reciprocal of x is', x.reciprocal())\n",
    "print('Float conversion is', float(x))\n",
    "\n",
    "print('-- y --')\n",
    "print('y is', y)\n",
    "print('Reciprocal of y is', y.reciprocal())\n",
    "\n",
    "print('-- operations --')\n",
    "print('Sum is', x+y)\n",
    "print('Difference is', x-y)\n",
    "print('Product is', x*y)\n",
    "print('Division is', x/y)"
   ]
  },
  {
   "cell_type": "code",
   "execution_count": 12,
   "metadata": {},
   "outputs": [
    {
     "name": "stdout",
     "output_type": "stream",
     "text": [
      "-- ZERO AND INFINITY TEST --\n",
      "-- z --\n",
      "z is 0\n",
      "Reciprocal of z is complex_infinity\n",
      "-- v --\n",
      "v is complex_infinity\n",
      "Reciprocal of v is 0\n",
      "Float conversion is inf\n",
      "-- operations --\n",
      "Sum is complex_infinity\n",
      "Difference is complex_infinity\n",
      "Product is indeterminate\n",
      "Division is indeterminate\n"
     ]
    }
   ],
   "source": [
    "print('-- ZERO AND INFINITY TEST --')\n",
    "z = Goldice(0,0)\n",
    "v = Goldice(COMPLEX_INFINITY)\n",
    "\n",
    "print('-- z --')\n",
    "print('z is', z)\n",
    "print('Reciprocal of z is',z.reciprocal())\n",
    "\n",
    "print('-- v --')\n",
    "print('v is', v)\n",
    "print('Reciprocal of v is', v.reciprocal())\n",
    "print('Float conversion is', float(v))\n",
    "\n",
    "print('-- operations --')\n",
    "print('Sum is', z+v)\n",
    "print('Difference is', z-v)\n",
    "print('Product is', z*v)\n",
    "print('Division is', z/v)"
   ]
  },
  {
   "cell_type": "code",
   "execution_count": 13,
   "metadata": {},
   "outputs": [
    {
     "name": "stdout",
     "output_type": "stream",
     "text": [
      "-- INDETERMINATE TEST --\n",
      "w is indeterminate\n",
      "Reciprocal of w is indeterminate\n",
      "Float conversion is nan\n",
      "-- operations against y --\n",
      "-- operations --\n",
      "Sum is indeterminate\n",
      "Difference is indeterminate\n",
      "Product is indeterminate\n",
      "Division is indeterminate\n"
     ]
    },
    {
     "name": "stderr",
     "output_type": "stream",
     "text": [
      "Waring: indeterminate value.\n",
      "Waring: indeterminate value.\n",
      "Waring: indeterminate value.\n",
      "Waring: indeterminate value.\n",
      "Waring: indeterminate value.\n"
     ]
    }
   ],
   "source": [
    "print('-- INDETERMINATE TEST --')\n",
    "w = Goldice(INDETERMINATE)\n",
    "print('w is', w)\n",
    "print('Reciprocal of w is', w.reciprocal())\n",
    "print('Float conversion is', float(w))\n",
    "\n",
    "print('-- operations against y --')\n",
    "print('-- operations --')\n",
    "print('Sum is', w+y)\n",
    "print('Difference is', w-y)\n",
    "print('Product is', w*y)\n",
    "print('Division is', w/y)"
   ]
  }
 ],
 "metadata": {
  "interpreter": {
   "hash": "31f2aee4e71d21fbe5cf8b01ff0e069b9275f58929596ceb00d14d90e3e16cd6"
  },
  "kernelspec": {
   "display_name": "Python 3.8.2 64-bit",
   "name": "python3"
  },
  "language_info": {
   "codemirror_mode": {
    "name": "ipython",
    "version": 3
   },
   "file_extension": ".py",
   "mimetype": "text/x-python",
   "name": "python",
   "nbconvert_exporter": "python",
   "pygments_lexer": "ipython3",
   "version": "3.8.2"
  },
  "metadata": {
   "interpreter": {
    "hash": "aee8b7b246df8f9039afb4144a1f6fd8d2ca17a180786b69acc140d282b71a49"
   }
  },
  "orig_nbformat": 2
 },
 "nbformat": 4,
 "nbformat_minor": 2
}
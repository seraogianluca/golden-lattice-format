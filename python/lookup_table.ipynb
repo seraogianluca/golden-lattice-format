{
 "metadata": {
  "language_info": {
   "codemirror_mode": {
    "name": "ipython",
    "version": 3
   },
   "file_extension": ".py",
   "mimetype": "text/x-python",
   "name": "python",
   "nbconvert_exporter": "python",
   "pygments_lexer": "ipython3",
   "version": "3.8.2"
  },
  "orig_nbformat": 2,
  "kernelspec": {
   "name": "python38264bitfe77093adb0b49b0980dfa0ff8df9daf",
   "display_name": "Python 3.8.2 64-bit"
  },
  "metadata": {
   "interpreter": {
    "hash": "aee8b7b246df8f9039afb4144a1f6fd8d2ca17a180786b69acc140d282b71a49"
   }
  }
 },
 "nbformat": 4,
 "nbformat_minor": 2,
 "cells": [
  {
   "source": [
    "# Lookup Table Generation"
   ],
   "cell_type": "markdown",
   "metadata": {}
  },
  {
   "source": [
    "Let's import the golden ratio package"
   ],
   "cell_type": "markdown",
   "metadata": {}
  },
  {
   "cell_type": "code",
   "execution_count": 1,
   "metadata": {},
   "outputs": [
    {
     "output_type": "stream",
     "name": "stdout",
     "text": [
      "Requirement already satisfied: import_ipynb in /Library/Frameworks/Python.framework/Versions/3.8/lib/python3.8/site-packages (0.1.3)\n",
      "importing Jupyter notebook from golden_ratio.ipynb\n",
      "Sum: 1+1*phi\n",
      "Difference: -1+1*phi\n",
      "Product: 0+1*phi\n",
      "Division: 0+1*phi\n",
      "Reciprocal of x: -1+1*phi\n",
      "Reciprocal of y: 1+0*phi\n"
     ]
    }
   ],
   "source": [
    "!pip3 install import_ipynb\n",
    "import import_ipynb\n",
    "from golden_ratio import Goldice"
   ]
  },
  {
   "cell_type": "code",
   "execution_count": 2,
   "metadata": {},
   "outputs": [],
   "source": [
    "def compute_closed_set(base : set):\n",
    "    base_list = list(base)\n",
    "    final_list = []\n",
    "    for extern_element in base_list:\n",
    "        for inner_element in base_list:\n",
    "            x = extern_element + inner_element\n",
    "            #print(\"Sum:\", x)\n",
    "            if not x in base:\n",
    "                #print(x, \"added\")\n",
    "                final_list.append(x)\n",
    "            x = extern_element * inner_element\n",
    "            #print(\"Product:\", x)\n",
    "            if not x in base:\n",
    "                #print(x, \"added\")\n",
    "                final_list.append(x)\n",
    "    return final_list\n",
    "\n",
    "def get_commonest(list):\n",
    "\n",
    "    return []"
   ]
  },
  {
   "cell_type": "code",
   "execution_count": 4,
   "metadata": {},
   "outputs": [
    {
     "output_type": "execute_result",
     "data": {
      "text/plain": [
       "[Puppa,\n",
       " (2, 0),\n",
       " (1, 1),\n",
       " (1, 1),\n",
       " (0, 2),\n",
       " (1, 1),\n",
       " ((complex, infinity), (complex, infinity, complex, infinity)),\n",
       " (-1, 2),\n",
       " Puppa,\n",
       " ((complex, infinity), (complex, infinity, complex, infinity)),\n",
       " ((complex, infinity), (complex, infinity, complex, infinity)),\n",
       " (-1, 2),\n",
       " ((complex, infinity), (complex, infinity, complex, infinity)),\n",
       " (-2, 2),\n",
       " (2, -1)]"
      ]
     },
     "metadata": {},
     "execution_count": 4
    }
   ],
   "source": [
    "base = {Goldice(0,0), Goldice(1,0), Goldice(0,1)}\n",
    "reciprocals = set()\n",
    "for elem in base:\n",
    "    reciprocals.add(elem.reciprocal())\n",
    "base = base.union(reciprocals)\n",
    "negatives = set()\n",
    "for elem in base:\n",
    "    negatives.add(Goldice(elem.a, elem.b))\n",
    "base = base.union(negatives)\n",
    "\n",
    "closed_set = compute_closed_set(base)\n",
    "\n",
    "closed_set"
   ]
  },
  {
   "cell_type": "code",
   "execution_count": null,
   "metadata": {},
   "outputs": [],
   "source": []
  }
 ]
}
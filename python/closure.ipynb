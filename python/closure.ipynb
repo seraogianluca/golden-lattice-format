{
 "metadata": {
  "language_info": {
   "codemirror_mode": {
    "name": "ipython",
    "version": 3
   },
   "file_extension": ".py",
   "mimetype": "text/x-python",
   "name": "python",
   "nbconvert_exporter": "python",
   "pygments_lexer": "ipython3",
   "version": "3.8.2"
  },
  "orig_nbformat": 2,
  "kernelspec": {
   "name": "python38264bitfe77093adb0b49b0980dfa0ff8df9daf",
   "display_name": "Python 3.8.2 64-bit"
  },
  "metadata": {
   "interpreter": {
    "hash": "aee8b7b246df8f9039afb4144a1f6fd8d2ca17a180786b69acc140d282b71a49"
   }
  }
 },
 "nbformat": 4,
 "nbformat_minor": 2,
 "cells": [
  {
   "source": [
    "# Test on the Closure"
   ],
   "cell_type": "markdown",
   "metadata": {}
  },
  {
   "cell_type": "code",
   "execution_count": 1,
   "metadata": {},
   "outputs": [
    {
     "output_type": "stream",
     "name": "stdout",
     "text": [
      "Requirement already satisfied: import_ipynb in /Library/Frameworks/Python.framework/Versions/3.8/lib/python3.8/site-packages (0.1.3)\n",
      "importing Jupyter notebook from lookup_table.ipynb\n",
      "Requirement already satisfied: import_ipynb in /Library/Frameworks/Python.framework/Versions/3.8/lib/python3.8/site-packages (0.1.3)\n",
      "Requirement already satisfied: dataframe_image in /Library/Frameworks/Python.framework/Versions/3.8/lib/python3.8/site-packages (0.1.1)\n",
      "Requirement already satisfied: matplotlib>=3.1 in /Library/Frameworks/Python.framework/Versions/3.8/lib/python3.8/site-packages (from dataframe_image) (3.2.1)\n",
      "Requirement already satisfied: beautifulsoup4 in /Library/Frameworks/Python.framework/Versions/3.8/lib/python3.8/site-packages (from dataframe_image) (4.9.3)\n",
      "Requirement already satisfied: pandas>=0.24 in /Library/Frameworks/Python.framework/Versions/3.8/lib/python3.8/site-packages (from dataframe_image) (1.0.3)\n",
      "Requirement already satisfied: requests in /Library/Frameworks/Python.framework/Versions/3.8/lib/python3.8/site-packages (from dataframe_image) (2.23.0)\n",
      "Requirement already satisfied: aiohttp in /Library/Frameworks/Python.framework/Versions/3.8/lib/python3.8/site-packages (from dataframe_image) (3.7.4.post0)\n",
      "Requirement already satisfied: nbconvert>=5 in /Users/kenobi_gen/Library/Python/3.8/lib/python/site-packages (from dataframe_image) (5.6.1)\n",
      "Requirement already satisfied: kiwisolver>=1.0.1 in /Library/Frameworks/Python.framework/Versions/3.8/lib/python3.8/site-packages (from matplotlib>=3.1->dataframe_image) (1.2.0)\n",
      "Requirement already satisfied: pyparsing!=2.0.4,!=2.1.2,!=2.1.6,>=2.0.1 in /Library/Frameworks/Python.framework/Versions/3.8/lib/python3.8/site-packages (from matplotlib>=3.1->dataframe_image) (2.4.7)\n",
      "Requirement already satisfied: python-dateutil>=2.1 in /Library/Frameworks/Python.framework/Versions/3.8/lib/python3.8/site-packages (from matplotlib>=3.1->dataframe_image) (2.8.1)\n",
      "Requirement already satisfied: cycler>=0.10 in /Library/Frameworks/Python.framework/Versions/3.8/lib/python3.8/site-packages (from matplotlib>=3.1->dataframe_image) (0.10.0)\n",
      "Requirement already satisfied: numpy>=1.11 in /Library/Frameworks/Python.framework/Versions/3.8/lib/python3.8/site-packages (from matplotlib>=3.1->dataframe_image) (1.18.2)\n",
      "Requirement already satisfied: six in /Library/Frameworks/Python.framework/Versions/3.8/lib/python3.8/site-packages (from cycler>=0.10->matplotlib>=3.1->dataframe_image) (1.14.0)\n",
      "Requirement already satisfied: traitlets>=4.2 in /Users/kenobi_gen/Library/Python/3.8/lib/python/site-packages (from nbconvert>=5->dataframe_image) (4.3.3)\n",
      "Requirement already satisfied: jinja2>=2.4 in /Library/Frameworks/Python.framework/Versions/3.8/lib/python3.8/site-packages (from nbconvert>=5->dataframe_image) (2.11.2)\n",
      "Requirement already satisfied: pygments in /Library/Frameworks/Python.framework/Versions/3.8/lib/python3.8/site-packages (from nbconvert>=5->dataframe_image) (2.6.1)\n",
      "Requirement already satisfied: bleach in /Users/kenobi_gen/Library/Python/3.8/lib/python/site-packages (from nbconvert>=5->dataframe_image) (3.1.5)\n",
      "Requirement already satisfied: testpath in /Users/kenobi_gen/Library/Python/3.8/lib/python/site-packages (from nbconvert>=5->dataframe_image) (0.4.4)\n",
      "Requirement already satisfied: entrypoints>=0.2.2 in /Users/kenobi_gen/Library/Python/3.8/lib/python/site-packages (from nbconvert>=5->dataframe_image) (0.3)\n",
      "Requirement already satisfied: mistune<2,>=0.8.1 in /Users/kenobi_gen/Library/Python/3.8/lib/python/site-packages (from nbconvert>=5->dataframe_image) (0.8.4)\n",
      "Requirement already satisfied: defusedxml in /Users/kenobi_gen/Library/Python/3.8/lib/python/site-packages (from nbconvert>=5->dataframe_image) (0.6.0)\n",
      "Requirement already satisfied: pandocfilters>=1.4.1 in /Users/kenobi_gen/Library/Python/3.8/lib/python/site-packages (from nbconvert>=5->dataframe_image) (1.4.2)\n",
      "Requirement already satisfied: jupyter-core in /Users/kenobi_gen/Library/Python/3.8/lib/python/site-packages (from nbconvert>=5->dataframe_image) (4.6.3)\n",
      "Requirement already satisfied: nbformat>=4.4 in /Users/kenobi_gen/Library/Python/3.8/lib/python/site-packages (from nbconvert>=5->dataframe_image) (5.0.6)\n",
      "Requirement already satisfied: MarkupSafe>=0.23 in /Library/Frameworks/Python.framework/Versions/3.8/lib/python3.8/site-packages (from jinja2>=2.4->nbconvert>=5->dataframe_image) (1.1.1)\n",
      "Requirement already satisfied: ipython-genutils in /Users/kenobi_gen/Library/Python/3.8/lib/python/site-packages (from nbformat>=4.4->nbconvert>=5->dataframe_image) (0.2.0)\n",
      "Requirement already satisfied: jsonschema!=2.5.0,>=2.4 in /Users/kenobi_gen/Library/Python/3.8/lib/python/site-packages (from nbformat>=4.4->nbconvert>=5->dataframe_image) (3.2.0)\n",
      "Requirement already satisfied: pyrsistent>=0.14.0 in /Users/kenobi_gen/Library/Python/3.8/lib/python/site-packages (from jsonschema!=2.5.0,>=2.4->nbformat>=4.4->nbconvert>=5->dataframe_image) (0.16.0)\n",
      "Requirement already satisfied: setuptools in /Library/Frameworks/Python.framework/Versions/3.8/lib/python3.8/site-packages (from jsonschema!=2.5.0,>=2.4->nbformat>=4.4->nbconvert>=5->dataframe_image) (41.2.0)\n",
      "Requirement already satisfied: attrs>=17.4.0 in /Users/kenobi_gen/Library/Python/3.8/lib/python/site-packages (from jsonschema!=2.5.0,>=2.4->nbformat>=4.4->nbconvert>=5->dataframe_image) (19.3.0)\n",
      "Requirement already satisfied: pytz>=2017.2 in /Library/Frameworks/Python.framework/Versions/3.8/lib/python3.8/site-packages (from pandas>=0.24->dataframe_image) (2019.3)\n",
      "Requirement already satisfied: decorator in /Users/kenobi_gen/Library/Python/3.8/lib/python/site-packages (from traitlets>=4.2->nbconvert>=5->dataframe_image) (4.4.2)\n",
      "Requirement already satisfied: multidict<7.0,>=4.5 in /Library/Frameworks/Python.framework/Versions/3.8/lib/python3.8/site-packages (from aiohttp->dataframe_image) (5.1.0)\n",
      "Requirement already satisfied: async-timeout<4.0,>=3.0 in /Library/Frameworks/Python.framework/Versions/3.8/lib/python3.8/site-packages (from aiohttp->dataframe_image) (3.0.1)\n",
      "Requirement already satisfied: typing-extensions>=3.6.5 in /Library/Frameworks/Python.framework/Versions/3.8/lib/python3.8/site-packages (from aiohttp->dataframe_image) (3.10.0.0)\n",
      "Requirement already satisfied: yarl<2.0,>=1.0 in /Library/Frameworks/Python.framework/Versions/3.8/lib/python3.8/site-packages (from aiohttp->dataframe_image) (1.6.3)\n",
      "Requirement already satisfied: chardet<5.0,>=2.0 in /Library/Frameworks/Python.framework/Versions/3.8/lib/python3.8/site-packages (from aiohttp->dataframe_image) (3.0.4)\n",
      "Requirement already satisfied: idna>=2.0 in /Library/Frameworks/Python.framework/Versions/3.8/lib/python3.8/site-packages (from yarl<2.0,>=1.0->aiohttp->dataframe_image) (2.9)\n",
      "Requirement already satisfied: soupsieve>1.2 in /Library/Frameworks/Python.framework/Versions/3.8/lib/python3.8/site-packages (from beautifulsoup4->dataframe_image) (2.2.1)\n",
      "Requirement already satisfied: packaging in /Users/kenobi_gen/Library/Python/3.8/lib/python/site-packages (from bleach->nbconvert>=5->dataframe_image) (20.3)\n",
      "Requirement already satisfied: webencodings in /Users/kenobi_gen/Library/Python/3.8/lib/python/site-packages (from bleach->nbconvert>=5->dataframe_image) (0.5.1)\n",
      "Requirement already satisfied: certifi>=2017.4.17 in /Library/Frameworks/Python.framework/Versions/3.8/lib/python3.8/site-packages (from requests->dataframe_image) (2020.4.5.1)\n",
      "Requirement already satisfied: urllib3!=1.25.0,!=1.25.1,<1.26,>=1.21.1 in /Library/Frameworks/Python.framework/Versions/3.8/lib/python3.8/site-packages (from requests->dataframe_image) (1.25.8)\n",
      "importing Jupyter notebook from golden_ratio.ipynb\n"
     ]
    }
   ],
   "source": [
    "!pip3 install import_ipynb\n",
    "import import_ipynb\n",
    "import pandas as pd\n",
    "from lookup_table import compute_closed_set, get_commonest\n",
    "from golden_ratio import Goldice, INDETERMINATE, COMPLEX_INFINITY"
   ]
  },
  {
   "cell_type": "code",
   "execution_count": 31,
   "metadata": {},
   "outputs": [],
   "source": [
    "base = {Goldice(0,0), Goldice(1,0), Goldice(0,1)}\n",
    "reciprocals = set([element.reciprocal() for element in base])\n",
    "base = base.union(reciprocals)\n",
    "opposites = set([element.opposite() for element in base])\n",
    "base = base.union(opposites)\n",
    "\n",
    "base_length_list = []\n",
    "commonest_list = []\n",
    "commonest_reciprocals_list = []\n",
    "commonest_opposites_list = []\n",
    "\n",
    "while len(base) != 44:\n",
    "    closed_set = compute_closed_set(base)\n",
    "    commonest = get_commonest(closed_set)\n",
    "    commonest_list.append(sorted([comm.__repr__() for comm in commonest]))\n",
    "    commonest_reciprocals_list.append(sorted([comm.reciprocal().__repr__() for comm in commonest]))\n",
    "    commonest_opposites_list.append(sorted([comm.opposite().__repr__() for comm in commonest]))\n",
    "    base = base.union(commonest)\n",
    "    base_length_list.append(len(base))\n"
   ]
  },
  {
   "cell_type": "code",
   "execution_count": 32,
   "metadata": {},
   "outputs": [
    {
     "output_type": "execute_result",
     "data": {
      "text/plain": [
       "                                            Commonest  \\\n",
       "Base Length                                             \n",
       "12                   [(-1,-1), (-2,1), (1,1), (2,-1)]   \n",
       "16                   [(-1,-2), (-3,2), (1,2), (3,-2)]   \n",
       "20                   [(-2,-3), (-5,3), (2,3), (5,-3)]   \n",
       "24                   [(-3,-5), (-8,5), (3,5), (8,-5)]   \n",
       "28                 [(-13,8), (-5,-8), (13,-8), (5,8)]   \n",
       "32             [(-21,13), (-8,-13), (21,-13), (8,13)]   \n",
       "36           [(-13,-21), (-34,21), (13,21), (34,-21)]   \n",
       "40           [(-21,-34), (-55,34), (21,34), (55,-34)]   \n",
       "44           [(-34,-55), (-89,55), (34,55), (89,-55)]   \n",
       "\n",
       "                                          Reciprocals  \\\n",
       "Base Length                                             \n",
       "12                   [(-1,-1), (-2,1), (1,1), (2,-1)]   \n",
       "16                   [(-1,-2), (-3,2), (1,2), (3,-2)]   \n",
       "20                   [(-2,-3), (-5,3), (2,3), (5,-3)]   \n",
       "24                   [(-3,-5), (-8,5), (3,5), (8,-5)]   \n",
       "28                 [(-13,8), (-5,-8), (13,-8), (5,8)]   \n",
       "32             [(-21,13), (-8,-13), (21,-13), (8,13)]   \n",
       "36           [(-13,-21), (-34,21), (13,21), (34,-21)]   \n",
       "40           [(-21,-34), (-55,34), (21,34), (55,-34)]   \n",
       "44           [(-34,-55), (-89,55), (34,55), (89,-55)]   \n",
       "\n",
       "                                            Opposites  \n",
       "Base Length                                            \n",
       "12                   [(-1,-1), (-2,1), (1,1), (2,-1)]  \n",
       "16                   [(-1,-2), (-3,2), (1,2), (3,-2)]  \n",
       "20                   [(-2,-3), (-5,3), (2,3), (5,-3)]  \n",
       "24                   [(-3,-5), (-8,5), (3,5), (8,-5)]  \n",
       "28                 [(-13,8), (-5,-8), (13,-8), (5,8)]  \n",
       "32             [(-21,13), (-8,-13), (21,-13), (8,13)]  \n",
       "36           [(-13,-21), (-34,21), (13,21), (34,-21)]  \n",
       "40           [(-21,-34), (-55,34), (21,34), (55,-34)]  \n",
       "44           [(-34,-55), (-89,55), (34,55), (89,-55)]  "
      ],
      "text/html": "<div>\n<style scoped>\n    .dataframe tbody tr th:only-of-type {\n        vertical-align: middle;\n    }\n\n    .dataframe tbody tr th {\n        vertical-align: top;\n    }\n\n    .dataframe thead th {\n        text-align: right;\n    }\n</style>\n<table border=\"1\" class=\"dataframe\">\n  <thead>\n    <tr style=\"text-align: right;\">\n      <th></th>\n      <th>Commonest</th>\n      <th>Reciprocals</th>\n      <th>Opposites</th>\n    </tr>\n    <tr>\n      <th>Base Length</th>\n      <th></th>\n      <th></th>\n      <th></th>\n    </tr>\n  </thead>\n  <tbody>\n    <tr>\n      <th>12</th>\n      <td>[(-1,-1), (-2,1), (1,1), (2,-1)]</td>\n      <td>[(-1,-1), (-2,1), (1,1), (2,-1)]</td>\n      <td>[(-1,-1), (-2,1), (1,1), (2,-1)]</td>\n    </tr>\n    <tr>\n      <th>16</th>\n      <td>[(-1,-2), (-3,2), (1,2), (3,-2)]</td>\n      <td>[(-1,-2), (-3,2), (1,2), (3,-2)]</td>\n      <td>[(-1,-2), (-3,2), (1,2), (3,-2)]</td>\n    </tr>\n    <tr>\n      <th>20</th>\n      <td>[(-2,-3), (-5,3), (2,3), (5,-3)]</td>\n      <td>[(-2,-3), (-5,3), (2,3), (5,-3)]</td>\n      <td>[(-2,-3), (-5,3), (2,3), (5,-3)]</td>\n    </tr>\n    <tr>\n      <th>24</th>\n      <td>[(-3,-5), (-8,5), (3,5), (8,-5)]</td>\n      <td>[(-3,-5), (-8,5), (3,5), (8,-5)]</td>\n      <td>[(-3,-5), (-8,5), (3,5), (8,-5)]</td>\n    </tr>\n    <tr>\n      <th>28</th>\n      <td>[(-13,8), (-5,-8), (13,-8), (5,8)]</td>\n      <td>[(-13,8), (-5,-8), (13,-8), (5,8)]</td>\n      <td>[(-13,8), (-5,-8), (13,-8), (5,8)]</td>\n    </tr>\n    <tr>\n      <th>32</th>\n      <td>[(-21,13), (-8,-13), (21,-13), (8,13)]</td>\n      <td>[(-21,13), (-8,-13), (21,-13), (8,13)]</td>\n      <td>[(-21,13), (-8,-13), (21,-13), (8,13)]</td>\n    </tr>\n    <tr>\n      <th>36</th>\n      <td>[(-13,-21), (-34,21), (13,21), (34,-21)]</td>\n      <td>[(-13,-21), (-34,21), (13,21), (34,-21)]</td>\n      <td>[(-13,-21), (-34,21), (13,21), (34,-21)]</td>\n    </tr>\n    <tr>\n      <th>40</th>\n      <td>[(-21,-34), (-55,34), (21,34), (55,-34)]</td>\n      <td>[(-21,-34), (-55,34), (21,34), (55,-34)]</td>\n      <td>[(-21,-34), (-55,34), (21,34), (55,-34)]</td>\n    </tr>\n    <tr>\n      <th>44</th>\n      <td>[(-34,-55), (-89,55), (34,55), (89,-55)]</td>\n      <td>[(-34,-55), (-89,55), (34,55), (89,-55)]</td>\n      <td>[(-34,-55), (-89,55), (34,55), (89,-55)]</td>\n    </tr>\n  </tbody>\n</table>\n</div>"
     },
     "metadata": {},
     "execution_count": 32
    }
   ],
   "source": [
    "d = {\"Base Length\": base_length_list,  \"Commonest\": commonest_list, \"Reciprocals\": commonest_reciprocals_list, \"Opposites\": commonest_opposites_list}\n",
    "df = pd.DataFrame(d)\n",
    "df = df.set_index('Base Length')\n",
    "df"
   ]
  },
  {
   "cell_type": "code",
   "execution_count": 33,
   "metadata": {},
   "outputs": [],
   "source": [
    "import dataframe_image as dfi\n",
    "\n",
    "dfi.export(df,'../outputs/closure_analysis.png')"
   ]
  },
  {
   "cell_type": "code",
   "execution_count": null,
   "metadata": {},
   "outputs": [],
   "source": []
  }
 ]
}
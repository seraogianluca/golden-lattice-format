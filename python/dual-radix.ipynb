{
 "metadata": {
  "language_info": {
   "codemirror_mode": {
    "name": "ipython",
    "version": 3
   },
   "file_extension": ".py",
   "mimetype": "text/x-python",
   "name": "python",
   "nbconvert_exporter": "python",
   "pygments_lexer": "ipython3",
   "version": "3.8.2"
  },
  "orig_nbformat": 4,
  "kernelspec": {
   "name": "python3",
   "display_name": "Python 3.8.2 64-bit"
  },
  "interpreter": {
   "hash": "aee8b7b246df8f9039afb4144a1f6fd8d2ca17a180786b69acc140d282b71a49"
  }
 },
 "nbformat": 4,
 "nbformat_minor": 2,
 "cells": [
  {
   "source": [
    "# Dual Radix"
   ],
   "cell_type": "markdown",
   "metadata": {}
  },
  {
   "cell_type": "code",
   "execution_count": 2,
   "metadata": {},
   "outputs": [],
   "source": [
    "import math\n",
    "from matplotlib.pyplot import plot"
   ]
  },
  {
   "source": [
    "First of all, let's generate a set taking all the powers of 5 from -k to k times all the powers of 5 from 1 - k to k - 1.\n",
    "\n",
    "We define this set declaring a class 'Unums' to maintain the key points as fields; this will be useful in the algorithm 'to_unum'.\n",
    "\n",
    "The class 'Unums' has the following fields:\n",
    "\n",
    "- elements: the set is built as a set but is maintained as an ordered list\n",
    "- min_pos: minimum amount of variation we can have from one value to another\n",
    "- max_pos: max value that we can get\n",
    "- zero_pos: the position of 0 in the list\n",
    "- one_pos: the position of 1 in the list\n",
    "- infinite_pos: the position of infinite in the list\n",
    "- round_decimal: the decimal figure to which a value should be rounded, in order to avoid approximation problems due to programming language"
   ],
   "cell_type": "markdown",
   "metadata": {}
  },
  {
   "cell_type": "code",
   "execution_count": 3,
   "metadata": {},
   "outputs": [],
   "source": [
    "class Unums:\n",
    "\n",
    "    def __init__(self):\n",
    "        self.build_full_set()\n",
    "        self.zero_pos = self.elements.index(0)\n",
    "        self.one_pos = self.elements.index(1)\n",
    "        self.infinite_pos = self.length-1\n",
    "        self.round_decimal = math.ceil(-math.log(self.minpos, 10))\n",
    "        print(f\"Position of zero: {self.zero_pos}\")\n",
    "        print(f\"\\n{self.elements}\\n\\nLength: {self.length}\")\n",
    "\n",
    "    def build_full_set(self, k = 4):\n",
    "        unums = set()\n",
    "        \n",
    "        for i in range(-k, k + 1):\n",
    "            for j in range(1- k, k):\n",
    "                unums.add(2**i * 5**j)\n",
    "        unums = sorted(list(unums))\n",
    "        self.minpos = unums[0]\n",
    "        self.maxpos = unums[-1]\n",
    "\n",
    "        unums = [element for element in unums if element >= 1]\n",
    "        unums = set(unums)\n",
    "\n",
    "        reciprocals = set(map(lambda x: 1/x, unums))\n",
    "        unums = unums.union(reciprocals)\n",
    "        negatives = set(map(lambda x: -x, unums))\n",
    "        unums = unums.union(negatives)\n",
    "\n",
    "        unums = unums.union({0, float('inf')})\n",
    "\n",
    "        self.elements = list(sorted(unums))\n",
    "        self.length = len(self.elements)\n"
   ]
  },
  {
   "source": [
    "The class 'DualRadix' maintains the unums data structure as a field to apply two algorithms:\n",
    "\n",
    "- to_unum(): this method takes as input a float and returns the position of the nearest element in the unums\n",
    "- approx(): this method takes a float and returns its approximation using k unums. The k value is a parameter."
   ],
   "cell_type": "markdown",
   "metadata": {}
  },
  {
   "cell_type": "code",
   "execution_count": 4,
   "metadata": {},
   "outputs": [],
   "source": [
    "class DualRadix:\n",
    "    \n",
    "    def __init__(self):\n",
    "        self.unums = Unums()\n",
    "\n",
    "    def to_unum(self, x):\n",
    "        if (x == float('inf')): return self.unums.infinite_pos\n",
    "        elif (x >= self.unums.maxpos): return self.unums.infinite_pos - 1\n",
    "        elif (x <= -self.unums.maxpos): return 0\n",
    "        elif (x == 0): return self.unums.zero_pos\n",
    "        elif (0 < x <= self.unums.minpos): return self.unums.zero_pos + 1\n",
    "        elif (-self.unums.minpos <= x < 0): return self.unums.zero_pos - 1\n",
    "        else: k = round(math.log(abs(x), 2) * 64/23 + 96)\n",
    "        if (x < 0): k = 127 - k\n",
    "        klo = k\n",
    "        while(self.unums.elements[klo] > x): klo = klo - 1\n",
    "        khi = k\n",
    "        while(self.unums.elements[khi] < x): khi = khi + 1\n",
    "        if(abs(math.log(x/self.unums.elements[klo])) < abs(math.log(self.unums.elements[khi]/x))):\n",
    "            k = klo\n",
    "        else:\n",
    "            k = khi\n",
    "        return k\n",
    "\n",
    "    def approx(self, x, k, print_unums=False):\n",
    "        unums = []\n",
    "        q = x\n",
    "        for _ in range(1, k + 1):\n",
    "            if abs(q) < self.unums.minpos: break\n",
    "            k = self.to_unum(q)\n",
    "            u = self.unums.elements[k]\n",
    "            unums.append(u)\n",
    "            q = round(q - u, self.unums.round_decimal)        \n",
    "        if(print_unums): print(unums)\n",
    "        return round(sum(unums), self.unums.round_decimal)\n"
   ]
  },
  {
   "source": [
    "Once defined the data structures, let's generate the set and plot how the values in the range \\[-30 30\\] are approximated."
   ],
   "cell_type": "markdown",
   "metadata": {}
  },
  {
   "cell_type": "code",
   "execution_count": 5,
   "metadata": {},
   "outputs": [
    {
     "output_type": "stream",
     "name": "stdout",
     "text": [
      "Position of zero: 63\n\n[-2000, -1000, -500, -400, -250, -200, -125, -100, -80, -62.5, -50, -40, -31.25, -25, -20, -16, -15.625, -12.5, -10, -8, -7.8125, -6.25, -5, -4, -3.2, -3.125, -2.5, -2, -1.6, -1.5625, -1.25, -1, -0.8, -0.64, -0.625, -0.5, -0.4, -0.32, -0.3125, -0.25, -0.2, -0.16, -0.128, -0.125, -0.1, -0.08, -0.064, -0.0625, -0.05, -0.04, -0.032, -0.025, -0.02, -0.016, -0.0125, -0.01, -0.008, -0.005, -0.004, -0.0025, -0.002, -0.001, -0.0005, 0, 0.0005, 0.001, 0.002, 0.0025, 0.004, 0.005, 0.008, 0.01, 0.0125, 0.016, 0.02, 0.025, 0.032, 0.04, 0.05, 0.0625, 0.064, 0.08, 0.1, 0.125, 0.128, 0.16, 0.2, 0.25, 0.3125, 0.32, 0.4, 0.5, 0.625, 0.64, 0.8, 1, 1.25, 1.5625, 1.6, 2, 2.5, 3.125, 3.2, 4, 5, 6.25, 7.8125, 8, 10, 12.5, 15.625, 16, 20, 25, 31.25, 40, 50, 62.5, 80, 100, 125, 200, 250, 400, 500, 1000, 2000, inf]\n\nLength: 128\nx: [-30, -29, -28, -27, -26, -25, -24, -23, -22, -21, -20, -19, -18, -17, -16, -15, -14, -13, -12, -11, -10, -9, -8, -7, -6, -5, -4, -3, -2, -1, 0, 1, 2, 3, 4, 5, 6, 7, 8, 9, 10, 11, 12, 13, 14, 15, 16, 17, 18, 19, 20, 21, 22, 23, 24, 25, 26, 27, 28, 29, 30]\ny: [-31.25, -31.25, -31.25, -31.25, -31.25, -25, -25, -25, -25, -25, -20, -20, -20, -20, -16, -15.625, -15.625, -15.625, -12.5, -12.5, -10, -10, -8, -7.8125, -6.25, -5, -4, -3.125, -2, -1, 0, 1, 2, 3.125, 4, 5, 6.25, 7.8125, 8, 10, 10, 12.5, 12.5, 15.625, 15.625, 15.625, 16, 20, 20, 20, 20, 25, 25, 25, 25, 25, 31.25, 31.25, 31.25, 31.25, 31.25]\n"
     ]
    },
    {
     "output_type": "execute_result",
     "data": {
      "text/plain": [
       "[<matplotlib.lines.Line2D at 0x7f8a00821f70>]"
      ]
     },
     "metadata": {},
     "execution_count": 5
    },
    {
     "output_type": "display_data",
     "data": {
      "text/plain": "<Figure size 432x288 with 1 Axes>",
      "image/svg+xml": "<?xml version=\"1.0\" encoding=\"utf-8\" standalone=\"no\"?>\n<!DOCTYPE svg PUBLIC \"-//W3C//DTD SVG 1.1//EN\"\n  \"http://www.w3.org/Graphics/SVG/1.1/DTD/svg11.dtd\">\n<!-- Created with matplotlib (https://matplotlib.org/) -->\n<svg height=\"248.518125pt\" version=\"1.1\" viewBox=\"0 0 377.304687 248.518125\" width=\"377.304687pt\" xmlns=\"http://www.w3.org/2000/svg\" xmlns:xlink=\"http://www.w3.org/1999/xlink\">\n <defs>\n  <style type=\"text/css\">\n*{stroke-linecap:butt;stroke-linejoin:round;}\n  </style>\n </defs>\n <g id=\"figure_1\">\n  <g id=\"patch_1\">\n   <path d=\"M 0 248.518125 \nL 377.304687 248.518125 \nL 377.304687 0 \nL 0 0 \nz\n\" style=\"fill:none;\"/>\n  </g>\n  <g id=\"axes_1\">\n   <g id=\"patch_2\">\n    <path d=\"M 35.304688 224.64 \nL 370.104688 224.64 \nL 370.104688 7.2 \nL 35.304688 7.2 \nz\n\" style=\"fill:#ffffff;\"/>\n   </g>\n   <g id=\"matplotlib.axis_1\">\n    <g id=\"xtick_1\">\n     <g id=\"line2d_1\">\n      <defs>\n       <path d=\"M 0 0 \nL 0 3.5 \n\" id=\"m2885a55e72\" style=\"stroke:#000000;stroke-width:0.8;\"/>\n      </defs>\n      <g>\n       <use style=\"stroke:#000000;stroke-width:0.8;\" x=\"50.522869\" xlink:href=\"#m2885a55e72\" y=\"224.64\"/>\n      </g>\n     </g>\n     <g id=\"text_1\">\n      <!-- −30 -->\n      <defs>\n       <path d=\"M 10.59375 35.5 \nL 73.1875 35.5 \nL 73.1875 27.203125 \nL 10.59375 27.203125 \nz\n\" id=\"DejaVuSans-8722\"/>\n       <path d=\"M 40.578125 39.3125 \nQ 47.65625 37.796875 51.625 33 \nQ 55.609375 28.21875 55.609375 21.1875 \nQ 55.609375 10.40625 48.1875 4.484375 \nQ 40.765625 -1.421875 27.09375 -1.421875 \nQ 22.515625 -1.421875 17.65625 -0.515625 \nQ 12.796875 0.390625 7.625 2.203125 \nL 7.625 11.71875 \nQ 11.71875 9.328125 16.59375 8.109375 \nQ 21.484375 6.890625 26.8125 6.890625 \nQ 36.078125 6.890625 40.9375 10.546875 \nQ 45.796875 14.203125 45.796875 21.1875 \nQ 45.796875 27.640625 41.28125 31.265625 \nQ 36.765625 34.90625 28.71875 34.90625 \nL 20.21875 34.90625 \nL 20.21875 43.015625 \nL 29.109375 43.015625 \nQ 36.375 43.015625 40.234375 45.921875 \nQ 44.09375 48.828125 44.09375 54.296875 \nQ 44.09375 59.90625 40.109375 62.90625 \nQ 36.140625 65.921875 28.71875 65.921875 \nQ 24.65625 65.921875 20.015625 65.03125 \nQ 15.375 64.15625 9.8125 62.3125 \nL 9.8125 71.09375 \nQ 15.4375 72.65625 20.34375 73.4375 \nQ 25.25 74.21875 29.59375 74.21875 \nQ 40.828125 74.21875 47.359375 69.109375 \nQ 53.90625 64.015625 53.90625 55.328125 \nQ 53.90625 49.265625 50.4375 45.09375 \nQ 46.96875 40.921875 40.578125 39.3125 \nz\n\" id=\"DejaVuSans-51\"/>\n       <path d=\"M 31.78125 66.40625 \nQ 24.171875 66.40625 20.328125 58.90625 \nQ 16.5 51.421875 16.5 36.375 \nQ 16.5 21.390625 20.328125 13.890625 \nQ 24.171875 6.390625 31.78125 6.390625 \nQ 39.453125 6.390625 43.28125 13.890625 \nQ 47.125 21.390625 47.125 36.375 \nQ 47.125 51.421875 43.28125 58.90625 \nQ 39.453125 66.40625 31.78125 66.40625 \nz\nM 31.78125 74.21875 \nQ 44.046875 74.21875 50.515625 64.515625 \nQ 56.984375 54.828125 56.984375 36.375 \nQ 56.984375 17.96875 50.515625 8.265625 \nQ 44.046875 -1.421875 31.78125 -1.421875 \nQ 19.53125 -1.421875 13.0625 8.265625 \nQ 6.59375 17.96875 6.59375 36.375 \nQ 6.59375 54.828125 13.0625 64.515625 \nQ 19.53125 74.21875 31.78125 74.21875 \nz\n\" id=\"DejaVuSans-48\"/>\n      </defs>\n      <g transform=\"translate(39.970526 239.238437)scale(0.1 -0.1)\">\n       <use xlink:href=\"#DejaVuSans-8722\"/>\n       <use x=\"83.789062\" xlink:href=\"#DejaVuSans-51\"/>\n       <use x=\"147.412109\" xlink:href=\"#DejaVuSans-48\"/>\n      </g>\n     </g>\n    </g>\n    <g id=\"xtick_2\">\n     <g id=\"line2d_2\">\n      <g>\n       <use style=\"stroke:#000000;stroke-width:0.8;\" x=\"101.250142\" xlink:href=\"#m2885a55e72\" y=\"224.64\"/>\n      </g>\n     </g>\n     <g id=\"text_2\">\n      <!-- −20 -->\n      <defs>\n       <path d=\"M 19.1875 8.296875 \nL 53.609375 8.296875 \nL 53.609375 0 \nL 7.328125 0 \nL 7.328125 8.296875 \nQ 12.9375 14.109375 22.625 23.890625 \nQ 32.328125 33.6875 34.8125 36.53125 \nQ 39.546875 41.84375 41.421875 45.53125 \nQ 43.3125 49.21875 43.3125 52.78125 \nQ 43.3125 58.59375 39.234375 62.25 \nQ 35.15625 65.921875 28.609375 65.921875 \nQ 23.96875 65.921875 18.8125 64.3125 \nQ 13.671875 62.703125 7.8125 59.421875 \nL 7.8125 69.390625 \nQ 13.765625 71.78125 18.9375 73 \nQ 24.125 74.21875 28.421875 74.21875 \nQ 39.75 74.21875 46.484375 68.546875 \nQ 53.21875 62.890625 53.21875 53.421875 \nQ 53.21875 48.921875 51.53125 44.890625 \nQ 49.859375 40.875 45.40625 35.40625 \nQ 44.1875 33.984375 37.640625 27.21875 \nQ 31.109375 20.453125 19.1875 8.296875 \nz\n\" id=\"DejaVuSans-50\"/>\n      </defs>\n      <g transform=\"translate(90.697798 239.238437)scale(0.1 -0.1)\">\n       <use xlink:href=\"#DejaVuSans-8722\"/>\n       <use x=\"83.789062\" xlink:href=\"#DejaVuSans-50\"/>\n       <use x=\"147.412109\" xlink:href=\"#DejaVuSans-48\"/>\n      </g>\n     </g>\n    </g>\n    <g id=\"xtick_3\">\n     <g id=\"line2d_3\">\n      <g>\n       <use style=\"stroke:#000000;stroke-width:0.8;\" x=\"151.977415\" xlink:href=\"#m2885a55e72\" y=\"224.64\"/>\n      </g>\n     </g>\n     <g id=\"text_3\">\n      <!-- −10 -->\n      <defs>\n       <path d=\"M 12.40625 8.296875 \nL 28.515625 8.296875 \nL 28.515625 63.921875 \nL 10.984375 60.40625 \nL 10.984375 69.390625 \nL 28.421875 72.90625 \nL 38.28125 72.90625 \nL 38.28125 8.296875 \nL 54.390625 8.296875 \nL 54.390625 0 \nL 12.40625 0 \nz\n\" id=\"DejaVuSans-49\"/>\n      </defs>\n      <g transform=\"translate(141.425071 239.238437)scale(0.1 -0.1)\">\n       <use xlink:href=\"#DejaVuSans-8722\"/>\n       <use x=\"83.789062\" xlink:href=\"#DejaVuSans-49\"/>\n       <use x=\"147.412109\" xlink:href=\"#DejaVuSans-48\"/>\n      </g>\n     </g>\n    </g>\n    <g id=\"xtick_4\">\n     <g id=\"line2d_4\">\n      <g>\n       <use style=\"stroke:#000000;stroke-width:0.8;\" x=\"202.704688\" xlink:href=\"#m2885a55e72\" y=\"224.64\"/>\n      </g>\n     </g>\n     <g id=\"text_4\">\n      <!-- 0 -->\n      <g transform=\"translate(199.523438 239.238437)scale(0.1 -0.1)\">\n       <use xlink:href=\"#DejaVuSans-48\"/>\n      </g>\n     </g>\n    </g>\n    <g id=\"xtick_5\">\n     <g id=\"line2d_5\">\n      <g>\n       <use style=\"stroke:#000000;stroke-width:0.8;\" x=\"253.43196\" xlink:href=\"#m2885a55e72\" y=\"224.64\"/>\n      </g>\n     </g>\n     <g id=\"text_5\">\n      <!-- 10 -->\n      <g transform=\"translate(247.06946 239.238437)scale(0.1 -0.1)\">\n       <use xlink:href=\"#DejaVuSans-49\"/>\n       <use x=\"63.623047\" xlink:href=\"#DejaVuSans-48\"/>\n      </g>\n     </g>\n    </g>\n    <g id=\"xtick_6\">\n     <g id=\"line2d_6\">\n      <g>\n       <use style=\"stroke:#000000;stroke-width:0.8;\" x=\"304.159233\" xlink:href=\"#m2885a55e72\" y=\"224.64\"/>\n      </g>\n     </g>\n     <g id=\"text_6\">\n      <!-- 20 -->\n      <g transform=\"translate(297.796733 239.238437)scale(0.1 -0.1)\">\n       <use xlink:href=\"#DejaVuSans-50\"/>\n       <use x=\"63.623047\" xlink:href=\"#DejaVuSans-48\"/>\n      </g>\n     </g>\n    </g>\n    <g id=\"xtick_7\">\n     <g id=\"line2d_7\">\n      <g>\n       <use style=\"stroke:#000000;stroke-width:0.8;\" x=\"354.886506\" xlink:href=\"#m2885a55e72\" y=\"224.64\"/>\n      </g>\n     </g>\n     <g id=\"text_7\">\n      <!-- 30 -->\n      <g transform=\"translate(348.524006 239.238437)scale(0.1 -0.1)\">\n       <use xlink:href=\"#DejaVuSans-51\"/>\n       <use x=\"63.623047\" xlink:href=\"#DejaVuSans-48\"/>\n      </g>\n     </g>\n    </g>\n   </g>\n   <g id=\"matplotlib.axis_2\">\n    <g id=\"ytick_1\">\n     <g id=\"line2d_8\">\n      <defs>\n       <path d=\"M 0 0 \nL -3.5 0 \n\" id=\"mcc642d82f9\" style=\"stroke:#000000;stroke-width:0.8;\"/>\n      </defs>\n      <g>\n       <use style=\"stroke:#000000;stroke-width:0.8;\" x=\"35.304688\" xlink:href=\"#mcc642d82f9\" y=\"210.802909\"/>\n      </g>\n     </g>\n     <g id=\"text_8\">\n      <!-- −30 -->\n      <g transform=\"translate(7.2 214.602128)scale(0.1 -0.1)\">\n       <use xlink:href=\"#DejaVuSans-8722\"/>\n       <use x=\"83.789062\" xlink:href=\"#DejaVuSans-51\"/>\n       <use x=\"147.412109\" xlink:href=\"#DejaVuSans-48\"/>\n      </g>\n     </g>\n    </g>\n    <g id=\"ytick_2\">\n     <g id=\"line2d_9\">\n      <g>\n       <use style=\"stroke:#000000;stroke-width:0.8;\" x=\"35.304688\" xlink:href=\"#mcc642d82f9\" y=\"179.175273\"/>\n      </g>\n     </g>\n     <g id=\"text_9\">\n      <!-- −20 -->\n      <g transform=\"translate(7.2 182.974491)scale(0.1 -0.1)\">\n       <use xlink:href=\"#DejaVuSans-8722\"/>\n       <use x=\"83.789062\" xlink:href=\"#DejaVuSans-50\"/>\n       <use x=\"147.412109\" xlink:href=\"#DejaVuSans-48\"/>\n      </g>\n     </g>\n    </g>\n    <g id=\"ytick_3\">\n     <g id=\"line2d_10\">\n      <g>\n       <use style=\"stroke:#000000;stroke-width:0.8;\" x=\"35.304688\" xlink:href=\"#mcc642d82f9\" y=\"147.547636\"/>\n      </g>\n     </g>\n     <g id=\"text_10\">\n      <!-- −10 -->\n      <g transform=\"translate(7.2 151.346855)scale(0.1 -0.1)\">\n       <use xlink:href=\"#DejaVuSans-8722\"/>\n       <use x=\"83.789062\" xlink:href=\"#DejaVuSans-49\"/>\n       <use x=\"147.412109\" xlink:href=\"#DejaVuSans-48\"/>\n      </g>\n     </g>\n    </g>\n    <g id=\"ytick_4\">\n     <g id=\"line2d_11\">\n      <g>\n       <use style=\"stroke:#000000;stroke-width:0.8;\" x=\"35.304688\" xlink:href=\"#mcc642d82f9\" y=\"115.92\"/>\n      </g>\n     </g>\n     <g id=\"text_11\">\n      <!-- 0 -->\n      <g transform=\"translate(21.942188 119.719219)scale(0.1 -0.1)\">\n       <use xlink:href=\"#DejaVuSans-48\"/>\n      </g>\n     </g>\n    </g>\n    <g id=\"ytick_5\">\n     <g id=\"line2d_12\">\n      <g>\n       <use style=\"stroke:#000000;stroke-width:0.8;\" x=\"35.304688\" xlink:href=\"#mcc642d82f9\" y=\"84.292364\"/>\n      </g>\n     </g>\n     <g id=\"text_12\">\n      <!-- 10 -->\n      <g transform=\"translate(15.579688 88.091582)scale(0.1 -0.1)\">\n       <use xlink:href=\"#DejaVuSans-49\"/>\n       <use x=\"63.623047\" xlink:href=\"#DejaVuSans-48\"/>\n      </g>\n     </g>\n    </g>\n    <g id=\"ytick_6\">\n     <g id=\"line2d_13\">\n      <g>\n       <use style=\"stroke:#000000;stroke-width:0.8;\" x=\"35.304688\" xlink:href=\"#mcc642d82f9\" y=\"52.664727\"/>\n      </g>\n     </g>\n     <g id=\"text_13\">\n      <!-- 20 -->\n      <g transform=\"translate(15.579688 56.463946)scale(0.1 -0.1)\">\n       <use xlink:href=\"#DejaVuSans-50\"/>\n       <use x=\"63.623047\" xlink:href=\"#DejaVuSans-48\"/>\n      </g>\n     </g>\n    </g>\n    <g id=\"ytick_7\">\n     <g id=\"line2d_14\">\n      <g>\n       <use style=\"stroke:#000000;stroke-width:0.8;\" x=\"35.304688\" xlink:href=\"#mcc642d82f9\" y=\"21.037091\"/>\n      </g>\n     </g>\n     <g id=\"text_14\">\n      <!-- 30 -->\n      <g transform=\"translate(15.579688 24.83631)scale(0.1 -0.1)\">\n       <use xlink:href=\"#DejaVuSans-51\"/>\n       <use x=\"63.623047\" xlink:href=\"#DejaVuSans-48\"/>\n      </g>\n     </g>\n    </g>\n   </g>\n   <g id=\"line2d_15\">\n    <path clip-path=\"url(#pff222d54f2)\" d=\"M 50.522869 214.756364 \nL 55.595597 214.756364 \nL 60.668324 214.756364 \nL 65.741051 214.756364 \nL 70.813778 214.756364 \nL 75.886506 194.989091 \nL 80.959233 194.989091 \nL 86.03196 194.989091 \nL 91.104687 194.989091 \nL 96.177415 194.989091 \nL 101.250142 179.175273 \nL 106.322869 179.175273 \nL 111.395597 179.175273 \nL 116.468324 179.175273 \nL 121.541051 166.524218 \nL 126.613778 165.338182 \nL 131.686506 165.338182 \nL 136.759233 165.338182 \nL 141.83196 155.454545 \nL 146.904687 155.454545 \nL 151.977415 147.547636 \nL 157.050142 147.547636 \nL 162.122869 141.222109 \nL 167.195597 140.629091 \nL 172.268324 135.687273 \nL 177.341051 131.733818 \nL 182.413778 128.571055 \nL 187.486506 125.803636 \nL 192.559233 122.245527 \nL 197.63196 119.082764 \nL 202.704688 115.92 \nL 207.777415 112.757236 \nL 212.850142 109.594473 \nL 217.922869 106.036364 \nL 222.995597 103.268945 \nL 228.068324 100.106182 \nL 233.141051 96.152727 \nL 238.213778 91.210909 \nL 243.286506 90.617891 \nL 248.359233 84.292364 \nL 253.43196 84.292364 \nL 258.504687 76.385455 \nL 263.577415 76.385455 \nL 268.650142 66.501818 \nL 273.722869 66.501818 \nL 278.795597 66.501818 \nL 283.868324 65.315782 \nL 288.941051 52.664727 \nL 294.013778 52.664727 \nL 299.086506 52.664727 \nL 304.159233 52.664727 \nL 309.23196 36.850909 \nL 314.304688 36.850909 \nL 319.377415 36.850909 \nL 324.450142 36.850909 \nL 329.522869 36.850909 \nL 334.595597 17.083636 \nL 339.668324 17.083636 \nL 344.741051 17.083636 \nL 349.813778 17.083636 \nL 354.886506 17.083636 \n\" style=\"fill:none;stroke:#1f77b4;stroke-linecap:square;stroke-width:1.5;\"/>\n   </g>\n   <g id=\"patch_3\">\n    <path d=\"M 35.304688 224.64 \nL 35.304688 7.2 \n\" style=\"fill:none;stroke:#000000;stroke-linecap:square;stroke-linejoin:miter;stroke-width:0.8;\"/>\n   </g>\n   <g id=\"patch_4\">\n    <path d=\"M 370.104688 224.64 \nL 370.104688 7.2 \n\" style=\"fill:none;stroke:#000000;stroke-linecap:square;stroke-linejoin:miter;stroke-width:0.8;\"/>\n   </g>\n   <g id=\"patch_5\">\n    <path d=\"M 35.304688 224.64 \nL 370.104688 224.64 \n\" style=\"fill:none;stroke:#000000;stroke-linecap:square;stroke-linejoin:miter;stroke-width:0.8;\"/>\n   </g>\n   <g id=\"patch_6\">\n    <path d=\"M 35.304688 7.2 \nL 370.104688 7.2 \n\" style=\"fill:none;stroke:#000000;stroke-linecap:square;stroke-linejoin:miter;stroke-width:0.8;\"/>\n   </g>\n  </g>\n </g>\n <defs>\n  <clipPath id=\"pff222d54f2\">\n   <rect height=\"217.44\" width=\"334.8\" x=\"35.304688\" y=\"7.2\"/>\n  </clipPath>\n </defs>\n</svg>\n",
      "image/png": "[encoded data removed]"
     },
     "metadata": {
      "needs_background": "light"
     }
    }
   ],
   "source": [
    "dualRadix = DualRadix()\n",
    "\n",
    "x = [i for i in range(-30, 31)]\n",
    "y = [dualRadix.unums.elements[dualRadix.to_unum(i)] for i in range(-30, 31)]\n",
    "\n",
    "print(\"x:\", x)\n",
    "print(\"y:\", y)\n",
    "plot(x, y)"
   ]
  },
  {
   "cell_type": "code",
   "execution_count": 6,
   "metadata": {
    "tags": []
   },
   "outputs": [
    {
     "output_type": "stream",
     "name": "stdout",
     "text": [
      "Approximation of Square Radix of 3\n\n[1.6, 0.128]\n2 unums: 1.728\n[1.6, 0.128, 0.004]\n3 unums: 1.732\n[1.6, 0.128, 0.004]\n4 unums: 1.732\n\nApproximation of e\n\n[2.5, 0.2]\n2 unums: 2.7\n[2.5, 0.2, 0.016]\n3 unums: 2.716\n[2.5, 0.2, 0.016, 0.002]\n4 unums: 2.718\n"
     ]
    }
   ],
   "source": [
    "print(\"Approximation of Square Radix of 3\\n\")\n",
    "print(\"2 unums:\", dualRadix.approx(math.sqrt(3), 2, True))\n",
    "print(\"3 unums:\", dualRadix.approx(math.sqrt(3), 3, True))\n",
    "print(\"4 unums:\", dualRadix.approx(math.sqrt(3), 4, True))\n",
    "print(\"\\nApproximation of e\\n\")\n",
    "print(\"2 unums:\", dualRadix.approx(math.e, 2, True))\n",
    "print(\"3 unums:\", dualRadix.approx(math.e, 3, True))\n",
    "print(\"4 unums:\", dualRadix.approx(math.e, 4, True))"
   ]
  },
  {
   "source": [
    "Let's compare the numbers in the interval \\[0, 2\\] and their approximation with 5 unums."
   ],
   "cell_type": "markdown",
   "metadata": {}
  },
  {
   "cell_type": "code",
   "execution_count": 63,
   "metadata": {},
   "outputs": [
    {
     "output_type": "stream",
     "name": "stdout",
     "text": [
      "0.0 - 0\n0.01 - 0.01\n0.02 - 0.02\n0.03 - 0.03\n0.04 - 0.04\n0.05 - 0.05\n0.06 - 0.06\n0.07 - 0.07\n0.08 - 0.08\n0.09 - 0.09\n0.1 - 0.1\n0.11 - 0.11\n0.12 - 0.12\n0.13 - 0.13\n0.14 - 0.14\n0.15 - 0.15\n0.16 - 0.16\n0.17 - 0.17\n0.18 - 0.18\n0.19 - 0.19\n0.2 - 0.2\n0.21 - 0.21\n0.22 - 0.22\n0.23 - 0.23\n0.24 - 0.24\n0.25 - 0.25\n0.26 - 0.26\n0.27 - 0.27\n0.28 - 0.28\n0.29 - 0.29\n0.3 - 0.3\n0.31 - 0.31\n0.32 - 0.32\n0.33 - 0.33\n0.34 - 0.34\n0.35 - 0.35\n0.36 - 0.36\n0.37 - 0.37\n0.38 - 0.38\n0.39 - 0.39\n0.4 - 0.4\n0.41 - 0.41\n0.42 - 0.42\n0.43 - 0.43\n0.44 - 0.44\n0.45 - 0.45\n0.46 - 0.46\n0.47 - 0.47\n0.48 - 0.48\n0.49 - 0.49\n0.5 - 0.5\n0.51 - 0.51\n0.52 - 0.52\n0.53 - 0.53\n0.54 - 0.54\n0.55 - 0.55\n0.56 - 0.56\n0.57 - 0.57\n0.58 - 0.58\n0.59 - 0.59\n0.6 - 0.6\n0.61 - 0.61\n0.62 - 0.62\n0.63 - 0.63\n0.64 - 0.64\n0.65 - 0.65\n0.66 - 0.66\n0.67 - 0.67\n0.68 - 0.68\n0.69 - 0.69\n0.7 - 0.7\n0.71 - 0.71\n0.72 - 0.72\n0.73 - 0.73\n0.74 - 0.74\n0.75 - 0.75\n0.76 - 0.76\n0.77 - 0.77\n0.78 - 0.78\n0.79 - 0.79\n0.8 - 0.8\n0.81 - 0.81\n0.82 - 0.82\n0.83 - 0.83\n0.84 - 0.84\n0.85 - 0.85\n0.86 - 0.86\n0.87 - 0.87\n0.88 - 0.88\n0.89 - 0.89\n0.9 - 0.9\n0.91 - 0.91\n0.92 - 0.92\n0.93 - 0.93\n0.94 - 0.94\n0.95 - 0.95\n0.96 - 0.96\n0.97 - 0.97\n0.98 - 0.98\n0.99 - 0.99\n1.0 - 1\n1.01 - 1.01\n1.02 - 1.02\n1.03 - 1.03\n1.04 - 1.04\n1.05 - 1.05\n1.06 - 1.06\n1.07 - 1.07\n1.08 - 1.08\n1.09 - 1.09\n1.1 - 1.1\n1.11 - 1.11\n1.12 - 1.12\n1.13 - 1.13\n1.14 - 1.14\n1.15 - 1.15\n1.16 - 1.16\n1.17 - 1.17\n1.18 - 1.18\n1.19 - 1.19\n1.2 - 1.2\n1.21 - 1.21\n1.22 - 1.22\n1.23 - 1.23\n1.24 - 1.24\n1.25 - 1.25\n1.26 - 1.26\n1.27 - 1.27\n1.28 - 1.28\n1.29 - 1.29\n1.3 - 1.3\n1.31 - 1.31\n1.32 - 1.32\n1.33 - 1.33\n1.34 - 1.34\n1.35 - 1.35\n1.36 - 1.36\n1.37 - 1.37\n1.38 - 1.38\n1.39 - 1.39\n1.4 - 1.4\n1.41 - 1.41\n1.42 - 1.42\n1.43 - 1.43\n1.44 - 1.44\n1.45 - 1.45\n1.46 - 1.46\n1.47 - 1.47\n1.48 - 1.48\n1.49 - 1.49\n1.5 - 1.5\n1.51 - 1.51\n1.52 - 1.52\n1.53 - 1.53\n1.54 - 1.54\n1.55 - 1.55\n1.56 - 1.56\n1.57 - 1.57\n1.58 - 1.58\n1.59 - 1.59\n1.6 - 1.6\n1.61 - 1.61\n1.62 - 1.62\n1.63 - 1.63\n1.64 - 1.64\n1.65 - 1.65\n1.66 - 1.66\n1.67 - 1.67\n1.68 - 1.68\n1.69 - 1.69\n1.7 - 1.7\n1.71 - 1.71\n1.72 - 1.72\n1.73 - 1.73\n1.74 - 1.74\n1.75 - 1.75\n1.76 - 1.76\n1.77 - 1.77\n1.78 - 1.78\n1.79 - 1.79\n1.8 - 1.8\n1.81 - 1.81\n1.82 - 1.82\n1.83 - 1.83\n1.84 - 1.84\n1.85 - 1.85\n1.86 - 1.86\n1.87 - 1.87\n1.88 - 1.88\n1.89 - 1.89\n1.9 - 1.9\n1.91 - 1.91\n1.92 - 1.92\n1.93 - 1.93\n1.94 - 1.94\n1.95 - 1.95\n1.96 - 1.96\n1.97 - 1.97\n1.98 - 1.98\n1.99 - 1.99\n"
     ]
    }
   ],
   "source": [
    "table_x = [i/100 for i in range(0, 200)]\n",
    "table_y = [dualRadix.approx(i/100, 5) for i in range(0, 200)]\n",
    "\n",
    "for i in range(0, 200):\n",
    "    print(f\"{table_x[i]} - {table_y[i]}\")"
   ]
  },
  {
   "source": [
    "Benchmark: $(\\frac{\\frac{27}{10} - e}{\\pi - (\\sqrt{3} + \\sqrt{2})})^{\\frac{67}{16}} = 302.882$ (WolframAlpha)"
   ],
   "cell_type": "markdown",
   "metadata": {}
  },
  {
   "cell_type": "code",
   "execution_count": 10,
   "metadata": {},
   "outputs": [
    {
     "output_type": "stream",
     "name": "stdout",
     "text": [
      "27/10 = 2.7\ne = 2.718\ntop = -0.018\nsqrt(2) = 1.4145\nsqrt(3) = 1.732\nsqrt(2) + sqrt(3) = 3.1465\nPi = 3.1415\nbottom = -0.005\ntop approximated = -0.016\nbottom approximated = -0.005\nratio = 3.2\nexponent = 4.1875\n\nFinal Result: 130.0\n"
     ]
    }
   ],
   "source": [
    "k = 4\n",
    "\n",
    "u_2710 = dualRadix.approx(27/10, k)\n",
    "u_e = dualRadix.approx(math.e, k)\n",
    "\n",
    "u_top = dualRadix.approx(u_2710 - u_e, k)\n",
    "\n",
    "u_r2 = dualRadix.approx(math.sqrt(2), k)\n",
    "u_r3 = dualRadix.approx(math.sqrt(3), k)\n",
    "u_sum = dualRadix.approx(u_r2 + u_r3, k)\n",
    "u_pi = dualRadix.approx(math.pi, k)\n",
    "u_bot = dualRadix.approx(u_pi - u_sum, k)\n",
    "\n",
    "u_top_signed = dualRadix.unums.elements[dualRadix.to_unum(u_top)]\n",
    "u_bot_signed = dualRadix.unums.elements[dualRadix.to_unum(u_bot)]\n",
    "\n",
    "u_ratio = dualRadix.approx(u_top_signed/u_bot_signed, k)\n",
    "\n",
    "u_6716 = dualRadix.approx(67/16, k)\n",
    "\n",
    "result = dualRadix.approx(u_ratio**u_6716, k)\n",
    "\n",
    "print(\"27/10 =\", u_2710)\n",
    "print(\"e =\", u_e)\n",
    "print(\"top =\", u_top)\n",
    "print(\"sqrt(2) =\", u_r2)\n",
    "print(\"sqrt(3) =\", u_r3)\n",
    "print(\"sqrt(2) + sqrt(3) =\", u_sum)\n",
    "print(\"Pi =\", u_pi)\n",
    "print(\"bottom =\", u_bot)\n",
    "print(\"top approximated =\", u_top_signed)\n",
    "print(\"bottom approximated =\", u_bot_signed)\n",
    "print(\"ratio =\", u_ratio)\n",
    "print(\"exponent =\", u_6716)\n",
    "print(\"\\nFinal Result:\", result)"
   ]
  },
  {
   "cell_type": "code",
   "execution_count": null,
   "metadata": {},
   "outputs": [],
   "source": []
  }
 ]
}